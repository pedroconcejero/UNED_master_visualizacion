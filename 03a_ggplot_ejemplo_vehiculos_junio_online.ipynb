{
 "cells": [
  {
   "cell_type": "markdown",
   "id": "0f812401",
   "metadata": {},
   "source": [
    "# Master BigData UCM 2023"
   ]
  },
  {
   "cell_type": "markdown",
   "id": "6833d36a",
   "metadata": {
    "id": "6833d36a"
   },
   "source": [
    "## 1. Datos vehículos a la venta 2016 en UK\n",
    "\n",
    "Propósito:\n",
    "\n",
    "- Facilitar la lectura del .csv que contiene los datos de este ejemplo\n",
    "\n"
   ]
  },
  {
   "cell_type": "code",
   "execution_count": null,
   "id": "2f22ebd3",
   "metadata": {},
   "outputs": [],
   "source": [
    "import pandas as pd\n",
    "import matplotlib.pyplot as plt\n",
    "import seaborn as sns"
   ]
  },
  {
   "cell_type": "code",
   "execution_count": null,
   "id": "7b01436a",
   "metadata": {},
   "outputs": [],
   "source": [
    "import plotnine\n",
    "from plotnine import *"
   ]
  },
  {
   "cell_type": "markdown",
   "id": "dc45e38a",
   "metadata": {},
   "source": [
    "### Carga de datos\n",
    "\n",
    "Este dataset tiene ya 7 años pero sigue siendo válido para nuestro propósito. \n",
    "\n",
    "La principal ventaja es que tiene una variale de grupo (o \"factor\") creada en español (la variable \"Tipo\") para facilitar los gráficos por tipo de vehículo."
   ]
  },
  {
   "cell_type": "code",
   "execution_count": null,
   "id": "92cf5e9f",
   "metadata": {
    "scrolled": true
   },
   "outputs": [],
   "source": [
    "df= pd.read_pickle(\"datos_vehiculos_2016.pkl\")"
   ]
  },
  {
   "cell_type": "code",
   "execution_count": null,
   "id": "f3fbd86e",
   "metadata": {},
   "outputs": [],
   "source": [
    "df.shape"
   ]
  },
  {
   "cell_type": "code",
   "execution_count": null,
   "id": "84d30206",
   "metadata": {
    "scrolled": true
   },
   "outputs": [],
   "source": [
    "df.describe(include = 'all')"
   ]
  },
  {
   "cell_type": "code",
   "execution_count": null,
   "id": "7ff827ca",
   "metadata": {
    "scrolled": true
   },
   "outputs": [],
   "source": [
    "count_classes = pd.value_counts(df['Tipo'], sort = True)\n",
    "count_classes.plot(kind = 'bar', rot=0)\n",
    "plt.title(\"Tipos de vehículos UK 2016\")\n",
    "plt.xlabel(\"Tipo\")\n",
    "plt.ylabel(\"Frecuencia\");"
   ]
  },
  {
   "cell_type": "code",
   "execution_count": null,
   "id": "ba49315a",
   "metadata": {},
   "outputs": [],
   "source": [
    "plt.scatter(df['EngineCapacity'], \n",
    "            df['MetricCombined'])\n",
    "\n",
    "plt.xlabel('Tamaño motor (cm3)')\n",
    "plt.ylabel('Consumo combinado')\n",
    "plt.show()"
   ]
  },
  {
   "cell_type": "markdown",
   "id": "6b47303b",
   "metadata": {},
   "source": [
    "# 2. Visualizaciones con ggplot\n",
    "\n",
    "Además del contenido recogido en la docu. teórica, es aconsejable seguir este excelente (y práctico) tutorial:\n",
    "\n",
    "https://realpython.com/ggplot-python/\n"
   ]
  },
  {
   "cell_type": "markdown",
   "id": "9e953946",
   "metadata": {},
   "source": [
    "## 2.1 Scatterplot dataset vehículos\n",
    "\n"
   ]
  },
  {
   "cell_type": "code",
   "execution_count": null,
   "id": "0584ff1d",
   "metadata": {},
   "outputs": [],
   "source": [
    "(\n",
    "ggplot(df) +\n",
    "    aes(x = 'EngineCapacity', \n",
    "          y = 'MetricCombined')\n",
    ")"
   ]
  },
  {
   "cell_type": "code",
   "execution_count": null,
   "id": "b5a3cd2f",
   "metadata": {
    "scrolled": true
   },
   "outputs": [],
   "source": [
    "(\n",
    "    ggplot(df)  # What data to use\n",
    "    + aes(x = 'EngineCapacity', \n",
    "          y = 'MetricCombined')  # What variable to use\n",
    "    + geom_point()   # Geometric object to use for drawing\n",
    ")"
   ]
  },
  {
   "cell_type": "code",
   "execution_count": null,
   "id": "d32595e9",
   "metadata": {},
   "outputs": [],
   "source": [
    "mi_grafico = (\n",
    "ggplot(df) +\n",
    "    aes(x = 'EngineCapacity', \n",
    "          y = 'MetricCombined')\n",
    ")"
   ]
  },
  {
   "cell_type": "code",
   "execution_count": null,
   "id": "1c3d3264",
   "metadata": {},
   "outputs": [],
   "source": [
    "mi_grafico + geom_point()"
   ]
  },
  {
   "cell_type": "code",
   "execution_count": null,
   "id": "436995ea",
   "metadata": {
    "scrolled": true
   },
   "outputs": [],
   "source": [
    "(\n",
    "    ggplot(df)  # What data to use\n",
    "    + aes(x = 'EngineCapacity', \n",
    "          y = 'MetricCombined',\n",
    "         color = 'Tipo')  # What variable to use\n",
    "    + geom_point()   # Geometric object to use for drawing\n",
    ")"
   ]
  },
  {
   "cell_type": "code",
   "execution_count": null,
   "id": "f35db543",
   "metadata": {},
   "outputs": [],
   "source": []
  },
  {
   "cell_type": "code",
   "execution_count": null,
   "id": "0a33f75b",
   "metadata": {
    "scrolled": true
   },
   "outputs": [],
   "source": [
    "(\n",
    "    ggplot(df)  # What data to use\n",
    "    + aes(x = 'EngineCapacity', \n",
    "          y = 'MetricCombined',\n",
    "         color = 'CO2gkm')  # What variable to use\n",
    "    +  geom_point()   # Geometric object to use for drawing\n",
    ")"
   ]
  },
  {
   "cell_type": "code",
   "execution_count": null,
   "id": "01cd2b67",
   "metadata": {
    "scrolled": true
   },
   "outputs": [],
   "source": [
    "(\n",
    "    ggplot(df)  # What data to use\n",
    "    + aes(x = 'EngineCapacity', \n",
    "          y = 'MetricCombined',\n",
    "         color = 'CO2gkm')  # What variable to use\n",
    "    +  geom_density_2d()   # Geometric object to use for drawing\n",
    ")"
   ]
  },
  {
   "cell_type": "code",
   "execution_count": null,
   "id": "23d3dda7",
   "metadata": {},
   "outputs": [],
   "source": []
  },
  {
   "cell_type": "code",
   "execution_count": null,
   "id": "5d759645",
   "metadata": {},
   "outputs": [],
   "source": [
    "import sklearn\n",
    "import skmisc"
   ]
  },
  {
   "cell_type": "code",
   "execution_count": null,
   "id": "e7353d5a",
   "metadata": {
    "scrolled": false
   },
   "outputs": [],
   "source": [
    "(\n",
    "    ggplot(df)  # What data to use\n",
    "    + aes(x = 'EngineCapacity', \n",
    "          y = 'MetricCombined',\n",
    "         color = 'Tipo')  # What variable to use\n",
    "    + geom_point()\n",
    "    + geom_smooth(method = 'lowess')   # Geometric object to use for drawing\n",
    ")"
   ]
  },
  {
   "cell_type": "code",
   "execution_count": null,
   "id": "b9473f8f",
   "metadata": {},
   "outputs": [],
   "source": [
    "(\n",
    "    ggplot(df)  # What data to use\n",
    "    + aes(x = 'EngineCapacity', \n",
    "          y = 'MetricCombined')  # What variable to use\n",
    "    + geom_point()  \n",
    "    + geom_smooth() # Geometric object to use for drawing\n",
    ")"
   ]
  },
  {
   "cell_type": "code",
   "execution_count": null,
   "id": "e40449b7",
   "metadata": {
    "scrolled": true
   },
   "outputs": [],
   "source": [
    "(\n",
    "    ggplot(df)  # What data to use\n",
    "    + aes(x = 'EngineCapacity', \n",
    "          y = 'MetricCombined',\n",
    "         color = 'Tipo')  # What variable to use\n",
    "    + geom_point()\n",
    "#    + geom_smooth(method = 'lowess') \n",
    "    + geom_smooth(method = 'lm') \n",
    ")"
   ]
  },
  {
   "cell_type": "code",
   "execution_count": null,
   "id": "955920da",
   "metadata": {},
   "outputs": [],
   "source": [
    "!pip install scikit-learn\n",
    "!pip install scikit-misc"
   ]
  },
  {
   "cell_type": "code",
   "execution_count": null,
   "id": "e432472b",
   "metadata": {
    "scrolled": true
   },
   "outputs": [],
   "source": [
    "(\n",
    "    ggplot(df)  # What data to use\n",
    "    + aes(x = 'EngineCapacity', \n",
    "          y = 'MetricCombined',\n",
    "         color = 'Tipo')  # What variable to use\n",
    "    + geom_smooth(method = 'lowess')   # Geometric object to use for drawing\n",
    "    + facet_grid(facets = \". ~ Tipo\")\n",
    ")"
   ]
  },
  {
   "cell_type": "code",
   "execution_count": null,
   "id": "6b4a510e",
   "metadata": {
    "scrolled": true
   },
   "outputs": [],
   "source": [
    "(\n",
    "    ggplot(df)  # What data to use\n",
    "    + aes(x = 'EngineCapacity', \n",
    "          y = 'MetricCombined',\n",
    "         color = 'Tipo')  # What variable to use\n",
    "    + geom_smooth(method = 'lowess')   # Geometric object to use for drawing\n",
    "    + geom_point()\n",
    "    + facet_grid(facets = \"Tipo ~ . \")\n",
    ")"
   ]
  },
  {
   "cell_type": "code",
   "execution_count": null,
   "id": "7fe80cfc",
   "metadata": {},
   "outputs": [],
   "source": [
    "(\n",
    "    ggplot(df)\n",
    "    + aes( x = 'Tipo',\n",
    "         y = \"EmissionsNOxmgkm\")\n",
    "    + geom_boxplot()\n",
    "    + coord_flip() \n",
    "#    + theme_classic()\n",
    "    \n",
    ")"
   ]
  },
  {
   "cell_type": "code",
   "execution_count": null,
   "id": "dac26fcb",
   "metadata": {
    "scrolled": true
   },
   "outputs": [],
   "source": [
    "grafico = (\n",
    "    ggplot(df)  # What data to use\n",
    "    + aes(x = 'EngineCapacity', \n",
    "          y = 'MetricCombined',\n",
    "         color = 'Tipo')  # What variable to use\n",
    "    + geom_smooth(method = 'lowess')   # Geometric object to use for drawing\n",
    "    + geom_point()\n",
    "    + facet_grid(facets = \"Tipo ~ . \")\n",
    ")"
   ]
  },
  {
   "cell_type": "code",
   "execution_count": null,
   "id": "96de2488",
   "metadata": {},
   "outputs": [],
   "source": [
    "ggsave(plot = grafico, \n",
    "       filename = 'enero_024.png', \n",
    "       dpi = 600)"
   ]
  },
  {
   "cell_type": "code",
   "execution_count": null,
   "id": "af50b1e2",
   "metadata": {
    "scrolled": true
   },
   "outputs": [],
   "source": [
    "grafico2 = (\n",
    "    ggplot(df)  # What data to use\n",
    "    + aes(x = 'EngineCapacity', \n",
    "          y = 'MetricCombined',\n",
    "         color = 'Tipo')  # What variable to use\n",
    "    + geom_smooth(method = 'lowess')   # Geometric object to use for drawing\n",
    "    + facet_grid(facets = \". ~ Tipo\")\n",
    ")"
   ]
  },
  {
   "cell_type": "code",
   "execution_count": null,
   "id": "7878e623",
   "metadata": {},
   "outputs": [],
   "source": [
    "grafico2.save(width = 24, \n",
    "             height = 14, \n",
    "             dpi=300,\n",
    "             format = 'png')"
   ]
  },
  {
   "cell_type": "raw",
   "id": "62fd775c",
   "metadata": {},
   "source": []
  },
  {
   "cell_type": "code",
   "execution_count": null,
   "id": "77af3dfd",
   "metadata": {
    "scrolled": true
   },
   "outputs": [],
   "source": [
    "grafico.save(width = 14, \n",
    "             height = 24, \n",
    "             dpi=300)"
   ]
  }
 ],
 "metadata": {
  "kernelspec": {
   "display_name": "Python 3 (ipykernel)",
   "language": "python",
   "name": "python3"
  },
  "language_info": {
   "codemirror_mode": {
    "name": "ipython",
    "version": 3
   },
   "file_extension": ".py",
   "mimetype": "text/x-python",
   "name": "python",
   "nbconvert_exporter": "python",
   "pygments_lexer": "ipython3",
   "version": "3.10.12"
  }
 },
 "nbformat": 4,
 "nbformat_minor": 5
}
